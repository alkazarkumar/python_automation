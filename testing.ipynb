{
 "cells": [
  {
   "cell_type": "code",
   "execution_count": 27,
   "metadata": {},
   "outputs": [],
   "source": [
    "from selenium import webdriver\n",
    "import time\n",
    "from selenium.webdriver.common.keys import Keys\n",
    "from selenium.webdriver import Chrome\n",
    "from selenium.webdriver.common.by import By\n",
    "from selenium.webdriver.support.ui import WebDriverWait\n",
    "from selenium.webdriver.support import expected_conditions as EC"
   ]
  },
  {
   "cell_type": "code",
   "execution_count": 2,
   "metadata": {},
   "outputs": [],
   "source": [
    "path = \"./chromedriver\""
   ]
  },
  {
   "cell_type": "code",
   "execution_count": 3,
   "metadata": {},
   "outputs": [],
   "source": [
    "driver = webdriver.Chrome(path)\n",
    "wait = WebDriverWait(driver,15)\n",
    "driver.get(\"https://meet.google.com/vrr-vkhy-qxo\")\n",
    "time.sleep(20)\n",
    "driver.quit()"
   ]
  },
  {
   "cell_type": "code",
   "execution_count": 5,
   "metadata": {},
   "outputs": [
    {
     "name": "stderr",
     "output_type": "stream",
     "text": [
      "/Library/Frameworks/Python.framework/Versions/3.7/lib/python3.7/site-packages/ipykernel_launcher.py:20: DeprecationWarning: use options instead of chrome_options\n"
     ]
    },
    {
     "name": "stdout",
     "output_type": "stream",
     "text": [
      "Login Failed\n"
     ]
    }
   ],
   "source": [
    "from selenium import webdriver \n",
    "gmailid = 'aman.tyagi.tata@gmail.com' \n",
    "password = 'hello@@world'\n",
    "\n",
    "from selenium.webdriver.chrome.options import Options\n",
    "\n",
    "opt = Options()\n",
    "opt.add_argument(\"--disable-infobars\")\n",
    "opt.add_argument(\"start-maximized\")\n",
    "opt.add_argument(\"--disable-extensions\")\n",
    "# Pass the argument 1 to allow and 2 to block\n",
    "opt.add_experimental_option(\"prefs\", { \\\n",
    "    \"profile.default_content_setting_values.media_stream_mic\": 1, \n",
    "    \"profile.default_content_setting_values.media_stream_camera\": 1,\n",
    "    \"profile.default_content_setting_values.geolocation\": 2, \n",
    "    \"profile.default_content_setting_values.notifications\": 2 \n",
    "  })\n",
    "try: \n",
    "    path = \"./chromedriver\"\n",
    "    driver = webdriver.Chrome(path,chrome_options=opt)\n",
    "    driver.get('https://accounts.google.com/signin/v2/identifier?continue=https%3A%2F%2Fmail.google.com%2Fmail%2F&service=mail&sacu=1&rip=1&flowName=GlifWebSignIn&flowEntry=ServiceLogin') \n",
    "    driver.implicitly_wait(2) \n",
    "    loginBox = driver.find_element_by_xpath('//*[@id=\"identifierId\"]') \n",
    "    loginBox.send_keys(gmailid)\n",
    "    nextButton = driver.find_elements_by_xpath('/html/body/div[1]/div[1]/div[2]/div/div[2]/div/div/div[2]/div/div[2]/div/div[1]/div/div/button/div[2]') \n",
    "    nextButton[0].click() \n",
    "    passWordBox = driver.find_element_by_xpath('//*[@id =\"password\"]/div[1]/div / div[1]/input') \n",
    "    passWordBox.send_keys(password)\n",
    "    nextButton = driver.find_elements_by_xpath('//*[@id =\"passwordNext\"]') \n",
    "    nextButton[0].click() \n",
    "    driver.get(\"https://www.google.co.in\")\n",
    "    driver.implicitly_wait()\n",
    "    driver.get(\"https://meet.google.com/vrr-vkhy-qxo\")\n",
    "    driver.implicitly_wait(3)\n",
    "    driver.find_element_by_xpath('//*[@id=\"yDmH0d\"]/c-wiz/div/div/div[8]/div[3]/div/div/div[2]/div/div[1]/div[1]/div[1]/div/div[4]/div[1]/div/div/div').click() \n",
    "    driver.implicitly_wait(3)\n",
    "    driver.find_element_by_xpath('//*[@id=\"yDmH0d\"]/c-wiz/div/div/div[8]/div[3]/div/div/div[2]/div/div[1]/div[1]/div[1]/div/div[4]/div[2]/div/div').click() \n",
    "    driver.implicitly_wait(3)\n",
    "    print('Login Successful...!!') \n",
    "except: \n",
    "    print('Login Failed')"
   ]
  },
  {
   "cell_type": "code",
   "execution_count": 14,
   "metadata": {},
   "outputs": [],
   "source": [
    "driver = webdriver.Chrome(path)\n",
    "gmailid = 'aman.tyagi.tata@gmail.com' \n",
    "password = 'hello@@world'\n",
    "driver.get('https://stackoverflow.com/users/signup?ssrc=head&returnurl=%2Fusers%2Fstory%2Fcurrent%27')\n",
    "time.sleep(3)\n",
    "driver.find_element_by_xpath('//*[@id=\"openid-buttons\"]/button[1]').click()\n",
    "driver.find_element_by_xpath('//input[@type=\"email\"]').send_keys(gmailid)\n",
    "driver.find_element_by_xpath('//*[@id=\"identifierNext\"]').click()\n",
    "time.sleep(3)\n",
    "driver.find_element_by_xpath('//input[@type=\"password\"]').send_keys(password)\n",
    "driver.find_element_by_xpath('//*[@id=\"passwordNext\"]').click()\n",
    "time.sleep(2)\n",
    "driver.get('https://youtube.com')\n",
    "time.sleep(5)\n",
    "driver.quit()"
   ]
  },
  {
   "cell_type": "code",
   "execution_count": 21,
   "metadata": {},
   "outputs": [],
   "source": [
    "from selenium.webdriver import ActionChains\n",
    "from selenium.webdriver.common.keys import Keys"
   ]
  },
  {
   "cell_type": "code",
   "execution_count": 33,
   "metadata": {},
   "outputs": [
    {
     "name": "stderr",
     "output_type": "stream",
     "text": [
      "/Library/Frameworks/Python.framework/Versions/3.7/lib/python3.7/site-packages/ipykernel_launcher.py:3: DeprecationWarning: use options instead of chrome_options\n",
      "  This is separate from the ipykernel package so we can avoid doing imports until\n"
     ]
    },
    {
     "name": "stdout",
     "output_type": "stream",
     "text": [
      "[<selenium.webdriver.remote.webelement.WebElement (session=\"68b6811bf378431fb0640f4618b2489e\", element=\"d0a61681-e704-4fb3-8b8a-d365488c6fd5\")>]\n",
      "Login Successful...!!\n"
     ]
    }
   ],
   "source": [
    "wait = WebDriverWait(driver,10)\n",
    "path = \"./chromedriver\"\n",
    "driver = webdriver.Chrome(path,chrome_options=opt)\n",
    "driver.get('https://accounts.google.com/signin/v2/identifier?continue=https%3A%2F%2Fmail.google.com%2Fmail%2F&service=mail&sacu=1&rip=1&flowName=GlifWebSignIn&flowEntry=ServiceLogin') \n",
    "driver.implicitly_wait(2) \n",
    "loginBox = driver.find_element_by_xpath('//*[@id=\"identifierId\"]') \n",
    "loginBox.send_keys(gmailid)\n",
    "nextButton = driver.find_elements_by_xpath('/html/body/div[1]/div[1]/div[2]/div/div[2]/div/div/div[2]/div/div[2]/div/div[1]/div/div/button/div[2]') \n",
    "nextButton[0].click() \n",
    "passWordBox = driver.find_element_by_xpath('//*[@id =\"password\"]/div[1]/div / div[1]/input') \n",
    "passWordBox.send_keys(password)\n",
    "nextButton = driver.find_elements_by_xpath('//*[@id =\"passwordNext\"]') \n",
    "nextButton[0].click() \n",
    "driver.get(\"https://www.google.co.in\")\n",
    "driver.implicitly_wait(2)\n",
    "driver.get(\"https://meet.google.com/vrr-vkhy-qxo\")\n",
    "driver.implicitly_wait(5)\n",
    "a = ActionChains(driver)\n",
    "a.key_down(Keys.COMMAND).send_keys('e').key_up(Keys.COMMAND).perform()\n",
    "a = ActionChains(driver)\n",
    "a.key_down(Keys.COMMAND).send_keys('d').key_up(Keys.COMMAND).perform()\n",
    "#driver.implicitly_wait(5)\n",
    "wait = WebDriverWait(driver,15)\n",
    "wait.until(EC.visibility_of_element_located((By.XPATH, \"//*[contains(text(), 'Ask to join')]\")))\n",
    "ask_to_join = driver.find_elements_by_xpath(\"//*[contains(text(), 'Ask to join')]\")\n",
    "print(ask_to_join)\n",
    "ask_to_join[0].click()\n",
    "time.sleep(10)\n",
    "driver.quit()\n",
    "print('Login Successful...!!')"
   ]
  }
 ],
 "metadata": {
  "kernelspec": {
   "display_name": "Python 3",
   "language": "python",
   "name": "python3"
  },
  "language_info": {
   "codemirror_mode": {
    "name": "ipython",
    "version": 3
   },
   "file_extension": ".py",
   "mimetype": "text/x-python",
   "name": "python",
   "nbconvert_exporter": "python",
   "pygments_lexer": "ipython3",
   "version": "3.7.7"
  }
 },
 "nbformat": 4,
 "nbformat_minor": 4
}
